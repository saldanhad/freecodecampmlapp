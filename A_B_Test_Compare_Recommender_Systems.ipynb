{
  "nbformat": 4,
  "nbformat_minor": 0,
  "metadata": {
    "colab": {
      "provenance": []
    },
    "kernelspec": {
      "name": "python3",
      "display_name": "Python 3"
    },
    "language_info": {
      "name": "python"
    }
  },
  "cells": [
    {
      "cell_type": "markdown",
      "source": [
        "## Perform A/B tests to compare the performance between the Troy and Sparta Recommenders:\n",
        " to compare the performance of the Troy and Sparta system, propose framework to perform the tests using both the Frequentist and Bayesian methods.\n",
        "Starting with the Frequentist approach we follow the below steps."
      ],
      "metadata": {
        "id": "86cJuRGXiwze"
      }
    },
    {
      "cell_type": "markdown",
      "source": [
        "## Business Problem:\n",
        " We are trying to compare the effectiveness of the BERT based recommender(Troy system) vs the Hybrid Content (TFIDF) Based recommender (Sparta system).\n",
        "\n",
        "For the purpose of the experiment the control group will be the Sparta System and treatment group will be the Troy system.\n",
        "\n",
        "## North Star metric (NSM) -\n",
        "The number of feedback ratings that are >=4 stars out of 5.\n",
        "\n",
        "## State the Hypothesis\n",
        "\n",
        "**Ho:** The NSM for the Troy and Sparta systems are the same .<br>\n",
        "**Ha:** The NSM for the Troy and Sparta systems are different."
      ],
      "metadata": {
        "id": "Lf1xaojohLK5"
      }
    },
    {
      "cell_type": "code",
      "execution_count": null,
      "metadata": {
        "id": "ziaujSCuhHoA"
      },
      "outputs": [],
      "source": [
        "#import required libraries\n",
        "from datetime import datetime\n",
        "import random\n",
        "import math\n",
        "import seaborn as sns\n",
        "import pandas as pd\n",
        "import numpy as np\n",
        "import scipy.stats as stats\n",
        "import statsmodels.api as sm\n",
        "import matplotlib.pyplot as plt\n",
        "import matplotlib.dates as mdates\n",
        "from matplotlib.ticker import MultipleLocator\n",
        "from statsmodels.stats.power import TTestIndPower, tt_ind_solve_power\n",
        "from statsmodels.stats.weightstats import ttest_ind\n",
        "from statsmodels.stats.proportion import proportions_chisquare, confint_proportions_2indep\n",
        "\n",
        "# Set seed for np random\n",
        "SEED = 123\n",
        "np.random.seed(SEED)\n",
        "\n",
        "## Experiment parameters\n",
        "alpha = 0.05 # Set the probability threshold at 0.05, if the p-value is less than 0.05, reject Ho.\n",
        "power = 0.80 # Setting statistical power to 80%. In other words we need to ensure there is a 80% chance of detecting an effect with significance\n",
        "mde = 0.10   # Detect there is a 10% improvement in using the treatment group as compared to the control group\n",
        "\n",
        "# Setting the proportions:\n",
        "# For instance based on some initial testing and the values from the live feedback tracker\n",
        "# if we determine that the sparta model is 40% effective we can set p1 to 0.4 and\n",
        "# run our experiment such that we expect a 10% lift on our treatment model i.e 44%\n",
        "\n",
        "p1 = 0.40 # Control (Sparta)\n",
        "p2 = p1 * (1+mde) # Treatment (Troy)"
      ]
    },
    {
      "cell_type": "markdown",
      "source": [
        "### Design the Experiment (Frequentist)\n",
        "We need to determine the randomization unit, calculating the sample size and determining the experiment duration.\n",
        "\n",
        "Cohen's D value is an indication of the number of standard deviations between two groups.\n",
        "\n",
        "For Proportions (Categorical Data):\n",
        "\n",
        "The formula for Cohen's d when comparing two proportions (p1 and p2) is as follows:\n",
        "\n",
        "    Cohen's d = 2 * arcsin(√p1) - 2 * arcsin(√p2)\n",
        "\n",
        "* p1 and p2 are the proportions of the two groups.\n",
        "\n",
        "The formula for calculating the sample size required for a two-sample independent (unpaired) t-test with two proportions (e.g., in the context of comparing proportions in two groups) can be determined using the following formula:\n",
        "\n",
        "    n= 2⋅(Z1−α2+Z1−β)^2⋅p(1−p)(p1−p2)/ (p1-p2)^2\n",
        "\n",
        "\n",
        "Where:\n",
        "\n",
        "* n is the required sample size per group (control and treatment).\n",
        "* Z1−α2Z1−2α​​ is the critical value for a two-tailed test at significance level αα. You can find this value from standard normal distribution tables or calculators (e.g., Z1−α2Z1−2α​​ for a 95% confidence interval corresponds to 1.96).\n",
        "* Z1−βZ1−β​ is the critical value for the desired statistical power (ββ). You can find this value based on your desired power, often denoted as 1−β1−β. Common choices include 0.80, 0.90, etc. This value can be obtained from a standard normal distribution table or calculator.\n",
        "* pp is the pooled proportion, which can be calculated as (p1⋅n1+p2⋅n2)/(n1+n2)(p1​⋅n1​+p2​⋅n2​)/(n1​+n2​), where n1n1​ and n2n2​ are the sample sizes for the control and treatment groups, and p1p1​ and p2p2​ are the proportions of interest for those groups.\n",
        "* (p1−p2)(p1​−p2​) is the effect size you want to detect (the difference in proportions you expect to observe in the two groups)."
      ],
      "metadata": {
        "id": "KCEf9B3Vj72w"
      }
    },
    {
      "cell_type": "code",
      "source": [
        "##Calculating the effect size using Cohen's D\n",
        "## p1 and p2 can be of different sizes\n",
        "cohen_D = sm.stats.proportion_effectsize(p1,p2)\n",
        "\n",
        "# Estimate the sample size required per group\n",
        "n = tt_ind_solve_power(effect_size=cohen_D, power=power, alpha=alpha)\n",
        "n = int(round(n, -3)) # Round up to the nearest thousand\n",
        "\n",
        "print(f'To detect an effect of {100*(p2/p1-1):.1f}% lift from sparta model at {100*p1:.0f}%, '\n",
        "      f'the sample size per group required is {n}.'\n",
        "      f'\\nThe total sample required in the experiment is {2*n}, since there are two groups via control and treatment')\n"
      ],
      "metadata": {
        "colab": {
          "base_uri": "https://localhost:8080/"
        },
        "id": "DB0sZlG2kJq8",
        "outputId": "41d6e8aa-0077-4fb3-cbaa-d537bbec74d7"
      },
      "execution_count": null,
      "outputs": [
        {
          "output_type": "stream",
          "name": "stdout",
          "text": [
            "To detect an effect of 10.0% lift from sparta model at 40%, the sample size per group required is 2000.\n",
            "The total sample required in the experiment is 4000, since there are two groups via control and treatment\n"
          ]
        }
      ]
    },
    {
      "cell_type": "code",
      "source": [
        "# Explore power across sample sizes\n",
        "\n",
        "ttest_power = TTestIndPower() # Statistical Power calculations for t-test for two independent sample, using pooled variance\n",
        "\n",
        "ttest_power.plot_power(dep_var='nobs', nobs=np.arange(10,10000,100), effect_size=[cohen_D], title='Power Analysis')\n",
        "\n",
        "# Set plot parameters\n",
        "plt.axhline(0.8, linestyle='--', label='Desired Power', alpha=0.5)\n",
        "plt.axvline(2400, linestyle='--', color='orange', label='Sample Size', alpha=0.5)\n",
        "plt.text(2400, 0.8, 'Sample Size: 2400', fontsize=12, color='orange', verticalalignment='bottom')\n",
        "plt.ylabel('Statistical Power')\n",
        "plt.grid(alpha=0.08)\n",
        "plt.legend()\n",
        "plt.show()"
      ],
      "metadata": {
        "colab": {
          "base_uri": "https://localhost:8080/",
          "height": 472
        },
        "id": "YPOPjU-V1MMO",
        "outputId": "8389c6c9-cf64-497f-958a-b5d8e44111da"
      },
      "execution_count": null,
      "outputs": [
        {
          "output_type": "display_data",
          "data": {
            "text/plain": [
              "<Figure size 640x480 with 1 Axes>"
            ],
            "image/png": "[encoded data removed]"
          },
          "metadata": {}
        }
      ]
    },
    {
      "cell_type": "markdown",
      "source": [
        "While the sample calculation from the two sampled proportion t-test provided us the sample size of 2000, looking at the power analysis we can see that 2400 would be a better choice as this is our intercept from the power analysis. Which means we would require a total of 4800 samples, for both the control and treatment groups."
      ],
      "metadata": {
        "id": "Z1P9jvgs5XKm"
      }
    },
    {
      "cell_type": "code",
      "source": [
        "#using a 5% mde\n",
        "mde = 0.05\n",
        "\n",
        "p1 = 0.40 # Control (Sparta)\n",
        "p2 = p1 * (1+mde) # Treatment (Troy)\n",
        "\n",
        "cohen_D = sm.stats.proportion_effectsize(p1,p2)\n",
        "\n",
        "n = tt_ind_solve_power(effect_size=cohen_D, power=power, alpha=alpha)\n",
        "n = int(round(n, -3)) # Round up to the nearest thousand\n",
        "\n",
        "print(f'To detect an effect of {100*(p2/p1-1):.1f}% lift from sparta model at {100*p1:.0f}%, '\n",
        "      f'the sample size per group required is {n}.'\n",
        "      f'\\nThe total sample required in the experiment is {2*n}, since there are two groups via control and treatment')"
      ],
      "metadata": {
        "colab": {
          "base_uri": "https://localhost:8080/"
        },
        "id": "zeqAihGK3obb",
        "outputId": "edec4c85-428a-45d7-c319-acb785a50356"
      },
      "execution_count": null,
      "outputs": [
        {
          "output_type": "stream",
          "name": "stdout",
          "text": [
            "To detect an effect of 5.0% lift from sparta model at 40%, the sample size per group required is 9000.\n",
            "The total sample required in the experiment is 18000, since there are two groups via control and treatment\n"
          ]
        }
      ]
    },
    {
      "cell_type": "markdown",
      "source": [
        "We can see that when we lower the minimum detectable effect we are required a lot more samples. A small MDE can lead to less precise estimates and reduced ability to detect smaller effects. In such a situation it would be helpful to perform a power analysis with different MDE values to see how they impact the required sample size and statistical power. This analysis can inform our decision about the appropriate MDE for the A/B test."
      ],
      "metadata": {
        "id": "da-v33pH4M3C"
      }
    },
    {
      "cell_type": "markdown",
      "source": [
        "### Estimating the duration of the Experiment\n",
        "\n",
        "Suppose in a production environment we know what was the number of visits per day, we are trying to estimate the duration required to achieve the required sample size (4800) given the percentage of unique visitors assigned to both control groups.\n",
        "\n",
        "Accounting for the days of the week effect, typically, we can run the experiment between 7 - 14 days. Since experimentation is designed to be iterative, hence needs to be tested quickly to optimize a product, its better not to extend it beyond 14 days.\n",
        "\n",
        "Here visits_mean is the average number of unique visitors per day."
      ],
      "metadata": {
        "id": "guBJMeSC6GND"
      }
    },
    {
      "cell_type": "code",
      "source": [
        "alloc = np.arange(0.10,1.1,0.10)\n",
        "size = round(visits_mean, -3) * alloc\n",
        "days = np.ceil(2*n / size)\n",
        "\n",
        "# Generate plot\n",
        "f, ax = plt.subplots(figsize=(6, 4))\n",
        "ax.plot(alloc, days, '-o')\n",
        "ax.xaxis.set_major_locator(MultipleLocator(0.1))\n",
        "ax.set_title('Days Required Given Traffic Allocation per Day')\n",
        "ax.set_ylabel('Experiment Duration in Days')\n",
        "ax.set_xlabel('% Traffic Allocated to the Experiment per Day')\n",
        "plt.show()"
      ],
      "metadata": {
        "id": "TC3ixFnR7fP6"
      },
      "execution_count": null,
      "outputs": []
    },
    {
      "cell_type": "markdown",
      "source": [
        "### Validity Threats for the A/B test\n",
        "\n",
        "We will perform an AA test and a chi-square test for sample ratio mismatch (SRM).\n",
        "\n",
        "Conducting checks for the experiment ensures that the AB test results are trustworthy and reduces risk of committing type 1 and type 2 errors.\n",
        "\n",
        "We run an AA test to ensure that there is no underlying difference between the control and treatment to begin with. AA test is still important to be performed prior to performing a Bayesian A/B test to validate the robustness of the Bayesian test and identify biases if any.\n",
        "\n"
      ],
      "metadata": {
        "id": "x9qULuzdKp8-"
      }
    },
    {
      "cell_type": "code",
      "source": [
        "!pip install psycopg2 -q"
      ],
      "metadata": {
        "id": "hC59GzhJMiD2"
      },
      "execution_count": null,
      "outputs": []
    },
    {
      "cell_type": "code",
      "source": [
        "import psycopg2\n",
        "\n",
        "# Define the ElephantSQL database URL\n",
        "database_url = \"your_database_url\"\n",
        "\n",
        "# Connect to the database using the database URL\n",
        "conn = psycopg2.connect(database_url)\n",
        "\n",
        "# Create a cursor\n",
        "cur = conn.cursor()\n",
        "\n",
        "# Define your SQL query\n",
        "sql_query = \"SELECT * FROM feedback_trackersparta\"\n",
        "\n",
        "# Execute the SQL query\n",
        "cur.execute(sql_query)\n",
        "\n",
        "# Fetch the data into a Pandas DataFrame\n",
        "data = cur.fetchall()\n",
        "df1 = pd.DataFrame(data, columns=[desc[0] for desc in cur.description])\n",
        "\n",
        "sql_query = \"SELECT * FROM feedback_trackertroy\"\n",
        "\n",
        "# Execute the SQL query\n",
        "cur.execute(sql_query)\n",
        "data = cur.fetchall()\n",
        "\n",
        "df2 = pd.DataFrame(data, columns=[desc[0] for desc in cur.description])\n",
        "\n",
        "# Close the cursor and the database connection\n",
        "cur.close()\n",
        "conn.close()"
      ],
      "metadata": {
        "id": "I0MSTuGKMmhN"
      },
      "execution_count": null,
      "outputs": []
    },
    {
      "cell_type": "code",
      "source": [
        "#sparta\n",
        "df1"
      ],
      "metadata": {
        "colab": {
          "base_uri": "https://localhost:8080/",
          "height": 269
        },
        "id": "NNszM3z_NqDE",
        "outputId": "a4bdc067-e46a-4789-9856-c9c7b11f5c80"
      },
      "execution_count": null,
      "outputs": [
        {
          "output_type": "execute_result",
          "data": {
            "text/plain": [
              "   id        period  ratings\n",
              "0   3     June_2023        3\n",
              "1   8     June_2023        4\n",
              "2   9     June_2023        4\n",
              "3  11  October_2023        4\n",
              "4  12  October_2023        3\n",
              "5  13  October_2023        3\n",
              "6  14  October_2023        3"
            ],
            "text/html": [
              "\n",
              "  <div id=\"df-590be581-e5a6-4da9-846a-542913e84dd8\" class=\"colab-df-container\">\n",
              "    <div>\n",
              "<style scoped>\n",
              "    .dataframe tbody tr th:only-of-type {\n",
              "        vertical-align: middle;\n",
              "    }\n",
              "\n",
              "    .dataframe tbody tr th {\n",
              "        vertical-align: top;\n",
              "    }\n",
              "\n",
              "    .dataframe thead th {\n",
              "        text-align: right;\n",
              "    }\n",
              "</style>\n",
              "<table border=\"1\" class=\"dataframe\">\n",
              "  <thead>\n",
              "    <tr style=\"text-align: right;\">\n",
              "      <th></th>\n",
              "      <th>id</th>\n",
              "      <th>period</th>\n",
              "      <th>ratings</th>\n",
              "    </tr>\n",
              "  </thead>\n",
              "  <tbody>\n",
              "    <tr>\n",
              "      <th>0</th>\n",
              "      <td>3</td>\n",
              "      <td>June_2023</td>\n",
              "      <td>3</td>\n",
              "    </tr>\n",
              "    <tr>\n",
              "      <th>1</th>\n",
              "      <td>8</td>\n",
              "      <td>June_2023</td>\n",
              "      <td>4</td>\n",
              "    </tr>\n",
              "    <tr>\n",
              "      <th>2</th>\n",
              "      <td>9</td>\n",
              "      <td>June_2023</td>\n",
              "      <td>4</td>\n",
              "    </tr>\n",
              "    <tr>\n",
              "      <th>3</th>\n",
              "      <td>11</td>\n",
              "      <td>October_2023</td>\n",
              "      <td>4</td>\n",
              "    </tr>\n",
              "    <tr>\n",
              "      <th>4</th>\n",
              "      <td>12</td>\n",
              "      <td>October_2023</td>\n",
              "      <td>3</td>\n",
              "    </tr>\n",
              "    <tr>\n",
              "      <th>5</th>\n",
              "      <td>13</td>\n",
              "      <td>October_2023</td>\n",
              "      <td>3</td>\n",
              "    </tr>\n",
              "    <tr>\n",
              "      <th>6</th>\n",
              "      <td>14</td>\n",
              "      <td>October_2023</td>\n",
              "      <td>3</td>\n",
              "    </tr>\n",
              "  </tbody>\n",
              "</table>\n",
              "</div>\n",
              "    <div class=\"colab-df-buttons\">\n",
              "\n",
              "  <div class=\"colab-df-container\">\n",
              "    <button class=\"colab-df-convert\" onclick=\"convertToInteractive('df-590be581-e5a6-4da9-846a-542913e84dd8')\"\n",
              "            title=\"Convert this dataframe to an interactive table.\"\n",
              "            style=\"display:none;\">\n",
              "\n",
              "  <svg xmlns=\"http://www.w3.org/2000/svg\" height=\"24px\" viewBox=\"0 -960 960 960\">\n",
              "    <path d=\"M120-120v-720h720v720H120Zm60-500h600v-160H180v160Zm220 220h160v-160H400v160Zm0 220h160v-160H400v160ZM180-400h160v-160H180v160Zm440 0h160v-160H620v160ZM180-180h160v-160H180v160Zm440 0h160v-160H620v160Z\"/>\n",
              "  </svg>\n",
              "    </button>\n",
              "\n",
              "  <style>\n",
              "    .colab-df-container {\n",
              "      display:flex;\n",
              "      gap: 12px;\n",
              "    }\n",
              "\n",
              "    .colab-df-convert {\n",
              "      background-color: #E8F0FE;\n",
              "      border: none;\n",
              "      border-radius: 50%;\n",
              "      cursor: pointer;\n",
              "      display: none;\n",
              "      fill: #1967D2;\n",
              "      height: 32px;\n",
              "      padding: 0 0 0 0;\n",
              "      width: 32px;\n",
              "    }\n",
              "\n",
              "    .colab-df-convert:hover {\n",
              "      background-color: #E2EBFA;\n",
              "      box-shadow: 0px 1px 2px rgba(60, 64, 67, 0.3), 0px 1px 3px 1px rgba(60, 64, 67, 0.15);\n",
              "      fill: #174EA6;\n",
              "    }\n",
              "\n",
              "    .colab-df-buttons div {\n",
              "      margin-bottom: 4px;\n",
              "    }\n",
              "\n",
              "    [theme=dark] .colab-df-convert {\n",
              "      background-color: #3B4455;\n",
              "      fill: #D2E3FC;\n",
              "    }\n",
              "\n",
              "    [theme=dark] .colab-df-convert:hover {\n",
              "      background-color: #434B5C;\n",
              "      box-shadow: 0px 1px 3px 1px rgba(0, 0, 0, 0.15);\n",
              "      filter: drop-shadow(0px 1px 2px rgba(0, 0, 0, 0.3));\n",
              "      fill: #FFFFFF;\n",
              "    }\n",
              "  </style>\n",
              "\n",
              "    <script>\n",
              "      const buttonEl =\n",
              "        document.querySelector('#df-590be581-e5a6-4da9-846a-542913e84dd8 button.colab-df-convert');\n",
              "      buttonEl.style.display =\n",
              "        google.colab.kernel.accessAllowed ? 'block' : 'none';\n",
              "\n",
              "      async function convertToInteractive(key) {\n",
              "        const element = document.querySelector('#df-590be581-e5a6-4da9-846a-542913e84dd8');\n",
              "        const dataTable =\n",
              "          await google.colab.kernel.invokeFunction('convertToInteractive',\n",
              "                                                    [key], {});\n",
              "        if (!dataTable) return;\n",
              "\n",
              "        const docLinkHtml = 'Like what you see? Visit the ' +\n",
              "          '<a target=\"_blank\" href=https://colab.research.google.com/notebooks/data_table.ipynb>data table notebook</a>'\n",
              "          + ' to learn more about interactive tables.';\n",
              "        element.innerHTML = '';\n",
              "        dataTable['output_type'] = 'display_data';\n",
              "        await google.colab.output.renderOutput(dataTable, element);\n",
              "        const docLink = document.createElement('div');\n",
              "        docLink.innerHTML = docLinkHtml;\n",
              "        element.appendChild(docLink);\n",
              "      }\n",
              "    </script>\n",
              "  </div>\n",
              "\n",
              "\n",
              "<div id=\"df-305602a5-5408-449d-a3ac-168043a93b11\">\n",
              "  <button class=\"colab-df-quickchart\" onclick=\"quickchart('df-305602a5-5408-449d-a3ac-168043a93b11')\"\n",
              "            title=\"Suggest charts.\"\n",
              "            style=\"display:none;\">\n",
              "\n",
              "<svg xmlns=\"http://www.w3.org/2000/svg\" height=\"24px\"viewBox=\"0 0 24 24\"\n",
              "     width=\"24px\">\n",
              "    <g>\n",
              "        <path d=\"M19 3H5c-1.1 0-2 .9-2 2v14c0 1.1.9 2 2 2h14c1.1 0 2-.9 2-2V5c0-1.1-.9-2-2-2zM9 17H7v-7h2v7zm4 0h-2V7h2v10zm4 0h-2v-4h2v4z\"/>\n",
              "    </g>\n",
              "</svg>\n",
              "  </button>\n",
              "\n",
              "<style>\n",
              "  .colab-df-quickchart {\n",
              "      --bg-color: #E8F0FE;\n",
              "      --fill-color: #1967D2;\n",
              "      --hover-bg-color: #E2EBFA;\n",
              "      --hover-fill-color: #174EA6;\n",
              "      --disabled-fill-color: #AAA;\n",
              "      --disabled-bg-color: #DDD;\n",
              "  }\n",
              "\n",
              "  [theme=dark] .colab-df-quickchart {\n",
              "      --bg-color: #3B4455;\n",
              "      --fill-color: #D2E3FC;\n",
              "      --hover-bg-color: #434B5C;\n",
              "      --hover-fill-color: #FFFFFF;\n",
              "      --disabled-bg-color: #3B4455;\n",
              "      --disabled-fill-color: #666;\n",
              "  }\n",
              "\n",
              "  .colab-df-quickchart {\n",
              "    background-color: var(--bg-color);\n",
              "    border: none;\n",
              "    border-radius: 50%;\n",
              "    cursor: pointer;\n",
              "    display: none;\n",
              "    fill: var(--fill-color);\n",
              "    height: 32px;\n",
              "    padding: 0;\n",
              "    width: 32px;\n",
              "  }\n",
              "\n",
              "  .colab-df-quickchart:hover {\n",
              "    background-color: var(--hover-bg-color);\n",
              "    box-shadow: 0 1px 2px rgba(60, 64, 67, 0.3), 0 1px 3px 1px rgba(60, 64, 67, 0.15);\n",
              "    fill: var(--button-hover-fill-color);\n",
              "  }\n",
              "\n",
              "  .colab-df-quickchart-complete:disabled,\n",
              "  .colab-df-quickchart-complete:disabled:hover {\n",
              "    background-color: var(--disabled-bg-color);\n",
              "    fill: var(--disabled-fill-color);\n",
              "    box-shadow: none;\n",
              "  }\n",
              "\n",
              "  .colab-df-spinner {\n",
              "    border: 2px solid var(--fill-color);\n",
              "    border-color: transparent;\n",
              "    border-bottom-color: var(--fill-color);\n",
              "    animation:\n",
              "      spin 1s steps(1) infinite;\n",
              "  }\n",
              "\n",
              "  @keyframes spin {\n",
              "    0% {\n",
              "      border-color: transparent;\n",
              "      border-bottom-color: var(--fill-color);\n",
              "      border-left-color: var(--fill-color);\n",
              "    }\n",
              "    20% {\n",
              "      border-color: transparent;\n",
              "      border-left-color: var(--fill-color);\n",
              "      border-top-color: var(--fill-color);\n",
              "    }\n",
              "    30% {\n",
              "      border-color: transparent;\n",
              "      border-left-color: var(--fill-color);\n",
              "      border-top-color: var(--fill-color);\n",
              "      border-right-color: var(--fill-color);\n",
              "    }\n",
              "    40% {\n",
              "      border-color: transparent;\n",
              "      border-right-color: var(--fill-color);\n",
              "      border-top-color: var(--fill-color);\n",
              "    }\n",
              "    60% {\n",
              "      border-color: transparent;\n",
              "      border-right-color: var(--fill-color);\n",
              "    }\n",
              "    80% {\n",
              "      border-color: transparent;\n",
              "      border-right-color: var(--fill-color);\n",
              "      border-bottom-color: var(--fill-color);\n",
              "    }\n",
              "    90% {\n",
              "      border-color: transparent;\n",
              "      border-bottom-color: var(--fill-color);\n",
              "    }\n",
              "  }\n",
              "</style>\n",
              "\n",
              "  <script>\n",
              "    async function quickchart(key) {\n",
              "      const quickchartButtonEl =\n",
              "        document.querySelector('#' + key + ' button');\n",
              "      quickchartButtonEl.disabled = true;  // To prevent multiple clicks.\n",
              "      quickchartButtonEl.classList.add('colab-df-spinner');\n",
              "      try {\n",
              "        const charts = await google.colab.kernel.invokeFunction(\n",
              "            'suggestCharts', [key], {});\n",
              "      } catch (error) {\n",
              "        console.error('Error during call to suggestCharts:', error);\n",
              "      }\n",
              "      quickchartButtonEl.classList.remove('colab-df-spinner');\n",
              "      quickchartButtonEl.classList.add('colab-df-quickchart-complete');\n",
              "    }\n",
              "    (() => {\n",
              "      let quickchartButtonEl =\n",
              "        document.querySelector('#df-305602a5-5408-449d-a3ac-168043a93b11 button');\n",
              "      quickchartButtonEl.style.display =\n",
              "        google.colab.kernel.accessAllowed ? 'block' : 'none';\n",
              "    })();\n",
              "  </script>\n",
              "</div>\n",
              "    </div>\n",
              "  </div>\n"
            ]
          },
          "metadata": {},
          "execution_count": 77
        }
      ]
    },
    {
      "cell_type": "code",
      "source": [
        "#troy\n",
        "df2"
      ],
      "metadata": {
        "colab": {
          "base_uri": "https://localhost:8080/",
          "height": 237
        },
        "id": "UrcQVbaCN6lV",
        "outputId": "bd24af1d-7282-48c8-9ecc-18d96e4f8c44"
      },
      "execution_count": null,
      "outputs": [
        {
          "output_type": "execute_result",
          "data": {
            "text/plain": [
              "   id        period  ratings\n",
              "0   1     June_2023        5\n",
              "1   2     June_2023        4\n",
              "2   5  October_2023        5\n",
              "3   6  October_2023        4\n",
              "4   7  October_2023        5\n",
              "5   8  October_2023        3"
            ],
            "text/html": [
              "\n",
              "  <div id=\"df-0e662152-5ec9-42fa-aba7-c50f4975191d\" class=\"colab-df-container\">\n",
              "    <div>\n",
              "<style scoped>\n",
              "    .dataframe tbody tr th:only-of-type {\n",
              "        vertical-align: middle;\n",
              "    }\n",
              "\n",
              "    .dataframe tbody tr th {\n",
              "        vertical-align: top;\n",
              "    }\n",
              "\n",
              "    .dataframe thead th {\n",
              "        text-align: right;\n",
              "    }\n",
              "</style>\n",
              "<table border=\"1\" class=\"dataframe\">\n",
              "  <thead>\n",
              "    <tr style=\"text-align: right;\">\n",
              "      <th></th>\n",
              "      <th>id</th>\n",
              "      <th>period</th>\n",
              "      <th>ratings</th>\n",
              "    </tr>\n",
              "  </thead>\n",
              "  <tbody>\n",
              "    <tr>\n",
              "      <th>0</th>\n",
              "      <td>1</td>\n",
              "      <td>June_2023</td>\n",
              "      <td>5</td>\n",
              "    </tr>\n",
              "    <tr>\n",
              "      <th>1</th>\n",
              "      <td>2</td>\n",
              "      <td>June_2023</td>\n",
              "      <td>4</td>\n",
              "    </tr>\n",
              "    <tr>\n",
              "      <th>2</th>\n",
              "      <td>5</td>\n",
              "      <td>October_2023</td>\n",
              "      <td>5</td>\n",
              "    </tr>\n",
              "    <tr>\n",
              "      <th>3</th>\n",
              "      <td>6</td>\n",
              "      <td>October_2023</td>\n",
              "      <td>4</td>\n",
              "    </tr>\n",
              "    <tr>\n",
              "      <th>4</th>\n",
              "      <td>7</td>\n",
              "      <td>October_2023</td>\n",
              "      <td>5</td>\n",
              "    </tr>\n",
              "    <tr>\n",
              "      <th>5</th>\n",
              "      <td>8</td>\n",
              "      <td>October_2023</td>\n",
              "      <td>3</td>\n",
              "    </tr>\n",
              "  </tbody>\n",
              "</table>\n",
              "</div>\n",
              "    <div class=\"colab-df-buttons\">\n",
              "\n",
              "  <div class=\"colab-df-container\">\n",
              "    <button class=\"colab-df-convert\" onclick=\"convertToInteractive('df-0e662152-5ec9-42fa-aba7-c50f4975191d')\"\n",
              "            title=\"Convert this dataframe to an interactive table.\"\n",
              "            style=\"display:none;\">\n",
              "\n",
              "  <svg xmlns=\"http://www.w3.org/2000/svg\" height=\"24px\" viewBox=\"0 -960 960 960\">\n",
              "    <path d=\"M120-120v-720h720v720H120Zm60-500h600v-160H180v160Zm220 220h160v-160H400v160Zm0 220h160v-160H400v160ZM180-400h160v-160H180v160Zm440 0h160v-160H620v160ZM180-180h160v-160H180v160Zm440 0h160v-160H620v160Z\"/>\n",
              "  </svg>\n",
              "    </button>\n",
              "\n",
              "  <style>\n",
              "    .colab-df-container {\n",
              "      display:flex;\n",
              "      gap: 12px;\n",
              "    }\n",
              "\n",
              "    .colab-df-convert {\n",
              "      background-color: #E8F0FE;\n",
              "      border: none;\n",
              "      border-radius: 50%;\n",
              "      cursor: pointer;\n",
              "      display: none;\n",
              "      fill: #1967D2;\n",
              "      height: 32px;\n",
              "      padding: 0 0 0 0;\n",
              "      width: 32px;\n",
              "    }\n",
              "\n",
              "    .colab-df-convert:hover {\n",
              "      background-color: #E2EBFA;\n",
              "      box-shadow: 0px 1px 2px rgba(60, 64, 67, 0.3), 0px 1px 3px 1px rgba(60, 64, 67, 0.15);\n",
              "      fill: #174EA6;\n",
              "    }\n",
              "\n",
              "    .colab-df-buttons div {\n",
              "      margin-bottom: 4px;\n",
              "    }\n",
              "\n",
              "    [theme=dark] .colab-df-convert {\n",
              "      background-color: #3B4455;\n",
              "      fill: #D2E3FC;\n",
              "    }\n",
              "\n",
              "    [theme=dark] .colab-df-convert:hover {\n",
              "      background-color: #434B5C;\n",
              "      box-shadow: 0px 1px 3px 1px rgba(0, 0, 0, 0.15);\n",
              "      filter: drop-shadow(0px 1px 2px rgba(0, 0, 0, 0.3));\n",
              "      fill: #FFFFFF;\n",
              "    }\n",
              "  </style>\n",
              "\n",
              "    <script>\n",
              "      const buttonEl =\n",
              "        document.querySelector('#df-0e662152-5ec9-42fa-aba7-c50f4975191d button.colab-df-convert');\n",
              "      buttonEl.style.display =\n",
              "        google.colab.kernel.accessAllowed ? 'block' : 'none';\n",
              "\n",
              "      async function convertToInteractive(key) {\n",
              "        const element = document.querySelector('#df-0e662152-5ec9-42fa-aba7-c50f4975191d');\n",
              "        const dataTable =\n",
              "          await google.colab.kernel.invokeFunction('convertToInteractive',\n",
              "                                                    [key], {});\n",
              "        if (!dataTable) return;\n",
              "\n",
              "        const docLinkHtml = 'Like what you see? Visit the ' +\n",
              "          '<a target=\"_blank\" href=https://colab.research.google.com/notebooks/data_table.ipynb>data table notebook</a>'\n",
              "          + ' to learn more about interactive tables.';\n",
              "        element.innerHTML = '';\n",
              "        dataTable['output_type'] = 'display_data';\n",
              "        await google.colab.output.renderOutput(dataTable, element);\n",
              "        const docLink = document.createElement('div');\n",
              "        docLink.innerHTML = docLinkHtml;\n",
              "        element.appendChild(docLink);\n",
              "      }\n",
              "    </script>\n",
              "  </div>\n",
              "\n",
              "\n",
              "<div id=\"df-4b4abff8-8970-4b11-90c7-f19aa2ca8076\">\n",
              "  <button class=\"colab-df-quickchart\" onclick=\"quickchart('df-4b4abff8-8970-4b11-90c7-f19aa2ca8076')\"\n",
              "            title=\"Suggest charts.\"\n",
              "            style=\"display:none;\">\n",
              "\n",
              "<svg xmlns=\"http://www.w3.org/2000/svg\" height=\"24px\"viewBox=\"0 0 24 24\"\n",
              "     width=\"24px\">\n",
              "    <g>\n",
              "        <path d=\"M19 3H5c-1.1 0-2 .9-2 2v14c0 1.1.9 2 2 2h14c1.1 0 2-.9 2-2V5c0-1.1-.9-2-2-2zM9 17H7v-7h2v7zm4 0h-2V7h2v10zm4 0h-2v-4h2v4z\"/>\n",
              "    </g>\n",
              "</svg>\n",
              "  </button>\n",
              "\n",
              "<style>\n",
              "  .colab-df-quickchart {\n",
              "      --bg-color: #E8F0FE;\n",
              "      --fill-color: #1967D2;\n",
              "      --hover-bg-color: #E2EBFA;\n",
              "      --hover-fill-color: #174EA6;\n",
              "      --disabled-fill-color: #AAA;\n",
              "      --disabled-bg-color: #DDD;\n",
              "  }\n",
              "\n",
              "  [theme=dark] .colab-df-quickchart {\n",
              "      --bg-color: #3B4455;\n",
              "      --fill-color: #D2E3FC;\n",
              "      --hover-bg-color: #434B5C;\n",
              "      --hover-fill-color: #FFFFFF;\n",
              "      --disabled-bg-color: #3B4455;\n",
              "      --disabled-fill-color: #666;\n",
              "  }\n",
              "\n",
              "  .colab-df-quickchart {\n",
              "    background-color: var(--bg-color);\n",
              "    border: none;\n",
              "    border-radius: 50%;\n",
              "    cursor: pointer;\n",
              "    display: none;\n",
              "    fill: var(--fill-color);\n",
              "    height: 32px;\n",
              "    padding: 0;\n",
              "    width: 32px;\n",
              "  }\n",
              "\n",
              "  .colab-df-quickchart:hover {\n",
              "    background-color: var(--hover-bg-color);\n",
              "    box-shadow: 0 1px 2px rgba(60, 64, 67, 0.3), 0 1px 3px 1px rgba(60, 64, 67, 0.15);\n",
              "    fill: var(--button-hover-fill-color);\n",
              "  }\n",
              "\n",
              "  .colab-df-quickchart-complete:disabled,\n",
              "  .colab-df-quickchart-complete:disabled:hover {\n",
              "    background-color: var(--disabled-bg-color);\n",
              "    fill: var(--disabled-fill-color);\n",
              "    box-shadow: none;\n",
              "  }\n",
              "\n",
              "  .colab-df-spinner {\n",
              "    border: 2px solid var(--fill-color);\n",
              "    border-color: transparent;\n",
              "    border-bottom-color: var(--fill-color);\n",
              "    animation:\n",
              "      spin 1s steps(1) infinite;\n",
              "  }\n",
              "\n",
              "  @keyframes spin {\n",
              "    0% {\n",
              "      border-color: transparent;\n",
              "      border-bottom-color: var(--fill-color);\n",
              "      border-left-color: var(--fill-color);\n",
              "    }\n",
              "    20% {\n",
              "      border-color: transparent;\n",
              "      border-left-color: var(--fill-color);\n",
              "      border-top-color: var(--fill-color);\n",
              "    }\n",
              "    30% {\n",
              "      border-color: transparent;\n",
              "      border-left-color: var(--fill-color);\n",
              "      border-top-color: var(--fill-color);\n",
              "      border-right-color: var(--fill-color);\n",
              "    }\n",
              "    40% {\n",
              "      border-color: transparent;\n",
              "      border-right-color: var(--fill-color);\n",
              "      border-top-color: var(--fill-color);\n",
              "    }\n",
              "    60% {\n",
              "      border-color: transparent;\n",
              "      border-right-color: var(--fill-color);\n",
              "    }\n",
              "    80% {\n",
              "      border-color: transparent;\n",
              "      border-right-color: var(--fill-color);\n",
              "      border-bottom-color: var(--fill-color);\n",
              "    }\n",
              "    90% {\n",
              "      border-color: transparent;\n",
              "      border-bottom-color: var(--fill-color);\n",
              "    }\n",
              "  }\n",
              "</style>\n",
              "\n",
              "  <script>\n",
              "    async function quickchart(key) {\n",
              "      const quickchartButtonEl =\n",
              "        document.querySelector('#' + key + ' button');\n",
              "      quickchartButtonEl.disabled = true;  // To prevent multiple clicks.\n",
              "      quickchartButtonEl.classList.add('colab-df-spinner');\n",
              "      try {\n",
              "        const charts = await google.colab.kernel.invokeFunction(\n",
              "            'suggestCharts', [key], {});\n",
              "      } catch (error) {\n",
              "        console.error('Error during call to suggestCharts:', error);\n",
              "      }\n",
              "      quickchartButtonEl.classList.remove('colab-df-spinner');\n",
              "      quickchartButtonEl.classList.add('colab-df-quickchart-complete');\n",
              "    }\n",
              "    (() => {\n",
              "      let quickchartButtonEl =\n",
              "        document.querySelector('#df-4b4abff8-8970-4b11-90c7-f19aa2ca8076 button');\n",
              "      quickchartButtonEl.style.display =\n",
              "        google.colab.kernel.accessAllowed ? 'block' : 'none';\n",
              "    })();\n",
              "  </script>\n",
              "</div>\n",
              "    </div>\n",
              "  </div>\n"
            ]
          },
          "metadata": {},
          "execution_count": 78
        }
      ]
    },
    {
      "cell_type": "code",
      "source": [
        "#Grab the control and treatment groups in the AA test\n",
        "AA_control = df1['ratings']\n",
        "AA_treatment = df2['ratings']\n",
        "\n",
        "# Get stats\n",
        "AA_control_cnt = AA_control.sum()\n",
        "AA_treatment_cnt = AA_treatment.sum()\n",
        "AA_control_rate = AA_control.mean()\n",
        "AA_treatment_rate = AA_treatment.mean()\n",
        "AA_control_size = AA_control.count()\n",
        "AA_treatment_size = AA_treatment.count()\n",
        "\n",
        "# Show calculation\n",
        "print('-------- AA Test ----------')\n",
        "print(f'Control Rate: {AA_control_rate:.3}') # round to 2 decimal places\n",
        "print(f'Treatment  Rate: {AA_treatment_rate:.3}')"
      ],
      "metadata": {
        "colab": {
          "base_uri": "https://localhost:8080/"
        },
        "id": "i28SrCRiLenz",
        "outputId": "99847a11-14df-4e23-f6fc-199981097e72"
      },
      "execution_count": null,
      "outputs": [
        {
          "output_type": "stream",
          "name": "stdout",
          "text": [
            "-------- AA Test ----------\n",
            "Control Rate: 3.43\n",
            "Treatment  Rate: 4.33\n"
          ]
        }
      ]
    },
    {
      "cell_type": "code",
      "source": [
        "# Run a chi-square test\n",
        "\n",
        "# Execute test\n",
        "AA_chistats, AA_pvalue, AA_tab = proportions_chisquare([AA_control_cnt, AA_treatment_cnt], nobs=[AA_control_size, AA_treatment_size])\n",
        "\n",
        "\n",
        "# Set the ALPHA for the AA test\n",
        "AA_ALPHA = 0.05\n",
        "\n",
        "print('Ho: The distribution of user ratings between control and treatment groups are same.')\n",
        "print('Ha: The distribution of user ratings between control and treatment groups are different.\\n')\n",
        "print(f'Significance level: {AA_ALPHA}')\n",
        "\n",
        "print(f'Chi-Square = {AA_chistats:.3f} | P-value = {AA_pvalue:.3f}')\n",
        "\n",
        "print('\\nConclusion:')\n",
        "if AA_pvalue < AA_ALPHA:\n",
        "  print('Reject Ho and conclude that there is statistical significance in the difference between the two groups. Check for instrumentation errors.')\n",
        "else:\n",
        "  print('Fail to reject Ho. Therefore, proceed with the AB test.')"
      ],
      "metadata": {
        "colab": {
          "base_uri": "https://localhost:8080/"
        },
        "id": "W1Qv2V3PUgi0",
        "outputId": "194ccc6e-1358-4923-e7d7-52da7624144c"
      },
      "execution_count": null,
      "outputs": [
        {
          "output_type": "stream",
          "name": "stdout",
          "text": [
            "Ho: The distribution of user ratings between control and treatment groups are same.\n",
            "Ha: The distribution of user ratings between control and treatment groups are different.\n",
            "\n",
            "Significance level: 0.05\n",
            "Chi-Square = -0.242 | P-value = 1.000\n",
            "\n",
            "Conclusion:\n",
            "Fail to reject Ho. Therefore, proceed with the AB test.\n"
          ]
        }
      ]
    },
    {
      "cell_type": "markdown",
      "source": [
        "###  Running the Experiment\n",
        "\n",
        "We proceed with running the experiment and gathering the 4800 samples required to perform the A/B test.\n",
        "In the following code we calculate the lift% followed by validitating if there is any satitstical significance in the lift %."
      ],
      "metadata": {
        "id": "prQ6IipI7qK9"
      }
    },
    {
      "cell_type": "code",
      "source": [
        "#Grab the control and treatment groups in the AA test\n",
        "AB_control = df1['ratings']\n",
        "AB_treatment = df2['ratings']\n",
        "\n",
        "# Get stats\n",
        "AB_control_cnt = AB_control.sum()\n",
        "AB_treatment_cnt = AB_treatment.sum()\n",
        "AB_control_rate = AB_control.mean()\n",
        "AB_treatment_rate = AB_treatment.mean()\n",
        "AB_control_size = AB_control.count()\n",
        "AB_treatment_size = AB_treatment.count()\n",
        "\n",
        "# Show calculation\n",
        "print('-------- AB Test ----------')\n",
        "print(f'Control Rate: {AB_control_rate:.3}') # round to 2 decimal places\n",
        "print(f'Treatment  Rate: {AB_treatment_rate:.3}')"
      ],
      "metadata": {
        "id": "sjWQ33DVW9wH"
      },
      "execution_count": null,
      "outputs": []
    },
    {
      "cell_type": "code",
      "source": [
        "Lift = ((AB_treatment_rate - AB_control_rate)/ AB_control_rate ) * 100"
      ],
      "metadata": {
        "id": "DY9k2QQKXkdC"
      },
      "execution_count": null,
      "outputs": []
    },
    {
      "cell_type": "markdown",
      "source": [
        "#### Conduct Statistical Inference:\n",
        "\n",
        "We will now perform a Chi-Squared evaluate the results from the experiment and conclude if there is any statical significance in the observed results:\n",
        "\n",
        "Hypothesis:\n",
        "\n",
        "'Ho: The observed Lift % is by chance and there is no significant difference between the Sparta and Troy systems.\n",
        "\n",
        "'Ha: The Lift % observed is significant and there is a definte difference between the Sparta and Troy systems.\n",
        "\n",
        "Note: we can also use a t-test as another viable test.\n",
        "\n",
        "\n",
        "\n",
        "\n"
      ],
      "metadata": {
        "id": "l18DziqhWwRI"
      }
    },
    {
      "cell_type": "code",
      "source": [
        "#Inference:\n",
        "# Let's start with the chi-squared test\n",
        "\n",
        "# Execute test\n",
        "AB_chistats, AB_pvalue, AB_tab = proportions_chisquare([AB_control_cnt, AB_treatment_cnt], nobs=[AB_control_size, AB_treatment_size])\n",
        "\n",
        "AB_ALPHA = 0.05\n",
        "\n",
        "# Run results\n",
        "print('Ho: The observed Lift % is by chance and there is no significant difference between the \\\n",
        "            ratings for the Sparta and Troy systems..')\n",
        "print('Ha: The Lift % observed is significant and there is a definte difference between the user \\\n",
        "            ratings for the Sparta and Troy systems..\\n')\n",
        "print(f'Significance level: {AB_ALPHA}')\n",
        "\n",
        "print(f'Chi-Square = {AB_chistats:.3f} | P-value = {AB_pvalue:.3f}')\n",
        "\n",
        "print('\\nConclusion:')\n",
        "if AB_pvalue < AB_ALPHA:\n",
        "  print('Reject Ho and conclude that there is statistical significance in the difference in performance between \\\n",
        "              the Sparta and Troy systems .')\n",
        "else:\n",
        "  print('Fail to reject Ho.')"
      ],
      "metadata": {
        "id": "AR3wu83Y-PaK"
      },
      "execution_count": null,
      "outputs": []
    },
    {
      "cell_type": "markdown",
      "source": [
        "# Bayesian A/B Test Approach\n",
        "\n",
        "For this analysis we take into account the average Beta(success, failure) distribution for both the models.\n",
        "\n",
        "Looking at the live feedback tracker and taking into account our NSM which was the number of users that give a rating of >=4 out of 5 stars, we see that for both the models across there are total of 13 ratings with 8 ratings being >=4 and 5 less than 4, here the success rate is 8 and failure rate is 5. We will take this beta(8,5)into conisderation.\n",
        "\n",
        "We know from initial testing that we have done so far the true success rate is ~40% for the Sparta Model and ~83% for troy model.\n",
        "\n",
        "\n",
        "A = Troy\n",
        "B = Sparta\n",
        "\n",
        "\n",
        "Assuming a group_size of 1000 samples we will calculate the posterior probabilities using the beta distribution, perform a monte carlo simulation for 100000 randomly distributed posterior probabilities for both A and B and then compare the A win rate which the percentage of times the probabilities of A beats B."
      ],
      "metadata": {
        "id": "3-O-Jl3F-P3u"
      }
    },
    {
      "cell_type": "code",
      "source": [
        "import numpy as np\n",
        "np.random.seed(42)\n",
        "from scipy.stats import beta\n",
        "\n",
        "group_size = 10000\n",
        "A_group, B_group = np.random.rand(2,group_size)\n",
        "\n",
        "#so take a prior of 1,1\n",
        "group_size = 10000\n",
        "A_successes = sum(A_group<0.83)\n",
        "B_successes = sum(B_group<0.42)\n",
        "\n",
        "A_failures = group_size - A_successes\n",
        "B_failures = group_size - B_successes\n",
        "\n",
        "A_posterior = beta(A_successes + 8, A_failures + 5) # non informative beta\n",
        "B_posterior = beta(B_successes + 8, B_failures+5)"
      ],
      "metadata": {
        "id": "38woWchyAIqI"
      },
      "execution_count": null,
      "outputs": []
    },
    {
      "cell_type": "code",
      "source": [
        "#monte carlo simulation\n",
        "import pandas as pd\n",
        "n_trails = 100000\n",
        "\n",
        "A_samples = pd.Series([A_posterior.rvs() for _ in range(n_trails)])\n",
        "\n",
        "B_samples = pd.Series([B_posterior.rvs() for _ in range(n_trails)])\n",
        "\n",
        "A_wins = sum(A_samples > B_samples)\n",
        "\n",
        "A_wins/n_trails # percentage of A wins"
      ],
      "metadata": {
        "colab": {
          "base_uri": "https://localhost:8080/"
        },
        "id": "QLPe9SQzAoY7",
        "outputId": "2b4c64a2-b4e2-4820-e8e3-79df37fab86d"
      },
      "execution_count": null,
      "outputs": [
        {
          "output_type": "execute_result",
          "data": {
            "text/plain": [
              "1.0"
            ]
          },
          "metadata": {},
          "execution_count": 57
        }
      ]
    },
    {
      "cell_type": "markdown",
      "source": [
        "Looking at the results from above, we observe a 100% probability that Model A (Troy) outperforms Model B (Sparta) in the recommender system.\n",
        "\n",
        "While the sample size for this initial analysis is relatively small, we can replicate this framework in a real production environment, adhering to the experiment's specified duration and ensuring proper randomization across distinct user groups to prevent sample mixing.\n",
        "\n",
        "The primary advantage of the Bayesian approach, compared to the frequentist approach, is that it doesn't require us to wait until we've collected the 4,800 samples needed for traditional hypothesis testing. This advantage can significantly reduce opportunity costs, allowing us to promptly conduct a Bayesian test when a sufficiently diverse sample becomes available, as demonstrated with this small sample size used in this analysis.\n",
        "\n",
        "We can repeat the Bayesian experiment by updating our prior beliefs and choosing a beta distribution that can be infered from subject matter experts or results from a production environment experiment and keep updating our posterior probabilities and continously help in making effective comparisons and support our decision to launch one system over the other.\n"
      ],
      "metadata": {
        "id": "HknKXiyzBAwI"
      }
    },
    {
      "cell_type": "code",
      "source": [
        "A_relative = A_samples/ B_samples\n",
        "A_relative.hist()\n",
        "plt.xlabel('Bins')\n",
        "plt.ylabel('Frequency')"
      ],
      "metadata": {
        "colab": {
          "base_uri": "https://localhost:8080/",
          "height": 468
        },
        "id": "YRmvYJIKA01n",
        "outputId": "d328e349-837a-489e-cbd3-9a777e7b0309"
      },
      "execution_count": null,
      "outputs": [
        {
          "output_type": "execute_result",
          "data": {
            "text/plain": [
              "Text(0, 0.5, 'Frequency')"
            ]
          },
          "metadata": {},
          "execution_count": 63
        },
        {
          "output_type": "display_data",
          "data": {
            "text/plain": [
              "<Figure size 640x480 with 1 Axes>"
            ],
            "image/png": "[encoded data removed]"
          },
          "metadata": {}
        }
      ]
    },
    {
      "cell_type": "markdown",
      "source": [
        "We can see that from the Troy system we can expect a 2 - 2.1x improvement over the Sparta system."
      ],
      "metadata": {
        "id": "y2uE50TRCAX6"
      }
    },
    {
      "cell_type": "markdown",
      "source": [
        "\n",
        "Diagram Explaining difference between Frquentist and Bayesian Testing Approach.\n",
        "\n",
        "\n",
        "\n",
        "![image.png](data:image/png;base64,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)"
      ],
      "metadata": {
        "id": "3CGCaboDF4ae"
      }
    },
    {
      "cell_type": "markdown",
      "source": [
        "### Validity Threats that need to be considered as part of the Analysis:\n",
        "\n",
        "* AA test - Execute this test prior to performing the A/B test.\n",
        "  Ensure that the control and treatment groups are starting in the same condition before the AB test. If the test shows significance in the difference, then theres a potential validity threat such as the instrumentation effect.\n",
        "\n",
        "  Hypothesis:\n",
        "  Ho : Two groups are the same.\n",
        "  Ha : Two groups are different.\n",
        "\n",
        "  Statistical Tests\n",
        "  * Chi-Squared Test\n",
        "  * Two Proportion/Mean tests\n",
        "\n",
        "  If fail to reject, proceed with the AB test, else need to check randomization, SRM errors, instrumentation errors.\n",
        "\n",
        "* Stable Unit Treatment Value Assumption (SUTVA): This assumption states that one group's treatment should not interfere with another group in an experiment. To ensure SUTVA, we must segregate users in such a way that they belong to either the treatment or control group, but not both. Additionally, there should be no business relationship between users in the control and treatment groups.\n",
        "\n",
        "* Survivorship Bias: Survivorship bias occurs when the analysis is based only on the data of participants who completed the test or remained in the experiment. Those who dropped out, churned, or were excluded for some reason are not considered. This can lead to an overestimation of the treatment effect because the experiences of non-survivors are not accounted for.\n",
        "\n",
        "* Sample Ratio Mismatch (SRM): Ideally, we want the sample split between the control and treatment groups to be 50-50%. However, randomization resulted in a 40-60 split, which may lead to skewed experiment results. We can apply a chi-square goodness-of-fit test or a one-sample z-test for proportion. The hypotheses are as follows:\n",
        "\n",
        "    Ho: The ratio of samples is 1:1.\n",
        "    Ha: The ratio of samples is not 1:1.\n",
        "    If we reject Ho, we conclude that the samples are not 1:1 and need to make changes and re-run the experiment to maintain the sample proportions. Note that Bayesian testing is more robust and has less sensitivity to SRM.\n",
        "\n",
        "* Primacy Effect: Users often form initial impressions of a website, app, or product based on their first interactions. These first impressions can have a lasting impact on user behavior throughout the test. To mitigate the primacy effect in A/B testing, researchers may use techniques like randomization, counterbalancing, or segmenting to distribute the impact of the order effect evenly across the user population.\n",
        "\n",
        "* Novelty Effect: The novelty effect is a temporary increase in the Key Performance Indicator (KPI) led by users' initial interest in a new change. However, over time, as users lose interest, the KPI may revert to the norm. The novelty effect increases the Type I error rate (false rejection of Ho). To address this, segment users or run the experiment for a longer duration to gauge the novelty effect.\n",
        "\n",
        "* Holiday Effect: The holiday effect is a temporary increase in the KPI during holidays when users engage with a product more. This also increases the Type I error rate. To mitigate this effect, avoid running experiments during holidays.\n"
      ],
      "metadata": {
        "id": "lW9QsmL0E7aS"
      }
    },
    {
      "cell_type": "markdown",
      "source": [
        "# Deciding Whether to Launch\n",
        "\n",
        "Frequentist Approach:\n",
        "\n",
        "In the frequentist approach, we tabulate the percentage lift based on the number of samples and the duration calculated from the steps outlined above. We then conduct a statistical inference using either a chi-square test or a t-test to determine if there is any statistical significance. If we reject the null hypothesis, we can conclude that there is statistical evidence that the Troy system is indeed superior to the Sparta system. This evidence informs our decision to launch the Troy system.\n",
        "\n",
        "Bayesian Approach:\n",
        "\n",
        "In the Bayesian approach, we run the experiment while diligently mitigating bias and addressing validity threats. We collect a sufficiently large sample size and leverage prior probabilities derived from the collected data, incorporating the beta distribution based on research conducted on both recommender systems. We compare the posterior probabilities of the Troy system against the Sparta system. If the posterior probabilities for the Troy system convincingly indicate its superiority over the Sparta system, we can make an informed decision to proceed with the launch of the Troy system."
      ],
      "metadata": {
        "id": "kSyXuACqZ0m-"
      }
    }
  ]
}